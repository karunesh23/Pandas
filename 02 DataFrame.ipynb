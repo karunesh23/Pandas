{
 "cells": [
  {
   "cell_type": "markdown",
   "id": "20347692-9f05-4950-ba4e-abb9ed1e2e80",
   "metadata": {},
   "source": [
    "## DATA FRAME - TABLE"
   ]
  },
  {
   "cell_type": "markdown",
   "id": "f439894d-a78f-4659-b445-440b9abeedbe",
   "metadata": {},
   "source": [
    "## SERIES - ROW OR COLUMN"
   ]
  },
  {
   "cell_type": "code",
   "execution_count": 2,
   "id": "ff77f32d-b2dc-42e6-a850-fdf1d320433b",
   "metadata": {},
   "outputs": [],
   "source": [
    "import numpy as np\n",
    "import pandas as pd"
   ]
  },
  {
   "cell_type": "code",
   "execution_count": 3,
   "id": "46d209c7-56fb-4f5a-9262-b89801fdca6a",
   "metadata": {},
   "outputs": [],
   "source": [
    "a = ['karunesh', 'bansal', 'varun']"
   ]
  },
  {
   "cell_type": "code",
   "execution_count": 4,
   "id": "db42d24c-7b7f-4428-80be-9a8d2c152c72",
   "metadata": {},
   "outputs": [],
   "source": [
    "a = pd.DataFrame(a)"
   ]
  },
  {
   "cell_type": "code",
   "execution_count": 5,
   "id": "c8ea4c0a-87e9-423e-afa6-f1edf05e79a2",
   "metadata": {},
   "outputs": [
    {
     "data": {
      "text/html": [
       "<div>\n",
       "<style scoped>\n",
       "    .dataframe tbody tr th:only-of-type {\n",
       "        vertical-align: middle;\n",
       "    }\n",
       "\n",
       "    .dataframe tbody tr th {\n",
       "        vertical-align: top;\n",
       "    }\n",
       "\n",
       "    .dataframe thead th {\n",
       "        text-align: right;\n",
       "    }\n",
       "</style>\n",
       "<table border=\"1\" class=\"dataframe\">\n",
       "  <thead>\n",
       "    <tr style=\"text-align: right;\">\n",
       "      <th></th>\n",
       "      <th>0</th>\n",
       "    </tr>\n",
       "  </thead>\n",
       "  <tbody>\n",
       "    <tr>\n",
       "      <th>0</th>\n",
       "      <td>karunesh</td>\n",
       "    </tr>\n",
       "    <tr>\n",
       "      <th>1</th>\n",
       "      <td>bansal</td>\n",
       "    </tr>\n",
       "    <tr>\n",
       "      <th>2</th>\n",
       "      <td>varun</td>\n",
       "    </tr>\n",
       "  </tbody>\n",
       "</table>\n",
       "</div>"
      ],
      "text/plain": [
       "          0\n",
       "0  karunesh\n",
       "1    bansal\n",
       "2     varun"
      ]
     },
     "execution_count": 5,
     "metadata": {},
     "output_type": "execute_result"
    }
   ],
   "source": [
    "a"
   ]
  },
  {
   "cell_type": "code",
   "execution_count": 6,
   "id": "71374374-e7c7-4c05-88f0-f46350ef52ae",
   "metadata": {},
   "outputs": [],
   "source": [
    "b = ['karunesh', 'bansal', 'anjali']"
   ]
  },
  {
   "cell_type": "code",
   "execution_count": 7,
   "id": "d453e3b4-8fd0-40d3-8f38-6d89c44f0801",
   "metadata": {},
   "outputs": [],
   "source": [
    "b = pd.DataFrame(b, index=[\"A\", \"B\", \"C\"], columns=[\"students\"])"
   ]
  },
  {
   "cell_type": "code",
   "execution_count": 8,
   "id": "de4ce189-6ed9-48b4-b2e8-c927d8de603a",
   "metadata": {},
   "outputs": [
    {
     "data": {
      "text/html": [
       "<div>\n",
       "<style scoped>\n",
       "    .dataframe tbody tr th:only-of-type {\n",
       "        vertical-align: middle;\n",
       "    }\n",
       "\n",
       "    .dataframe tbody tr th {\n",
       "        vertical-align: top;\n",
       "    }\n",
       "\n",
       "    .dataframe thead th {\n",
       "        text-align: right;\n",
       "    }\n",
       "</style>\n",
       "<table border=\"1\" class=\"dataframe\">\n",
       "  <thead>\n",
       "    <tr style=\"text-align: right;\">\n",
       "      <th></th>\n",
       "      <th>students</th>\n",
       "    </tr>\n",
       "  </thead>\n",
       "  <tbody>\n",
       "    <tr>\n",
       "      <th>A</th>\n",
       "      <td>karunesh</td>\n",
       "    </tr>\n",
       "    <tr>\n",
       "      <th>B</th>\n",
       "      <td>bansal</td>\n",
       "    </tr>\n",
       "    <tr>\n",
       "      <th>C</th>\n",
       "      <td>anjali</td>\n",
       "    </tr>\n",
       "  </tbody>\n",
       "</table>\n",
       "</div>"
      ],
      "text/plain": [
       "   students\n",
       "A  karunesh\n",
       "B    bansal\n",
       "C    anjali"
      ]
     },
     "execution_count": 8,
     "metadata": {},
     "output_type": "execute_result"
    }
   ],
   "source": [
    "b"
   ]
  },
  {
   "cell_type": "code",
   "execution_count": 9,
   "id": "80eea730-98ec-4836-b0f7-177fc1380277",
   "metadata": {},
   "outputs": [
    {
     "data": {
      "text/plain": [
       "pandas.core.frame.DataFrame"
      ]
     },
     "execution_count": 9,
     "metadata": {},
     "output_type": "execute_result"
    }
   ],
   "source": [
    "type(b)"
   ]
  },
  {
   "cell_type": "code",
   "execution_count": 10,
   "id": "c8e23d4d-7422-4573-8173-e0f26b3bef28",
   "metadata": {},
   "outputs": [
    {
     "data": {
      "text/plain": [
       "pandas.core.series.Series"
      ]
     },
     "execution_count": 10,
     "metadata": {},
     "output_type": "execute_result"
    }
   ],
   "source": [
    "type(b['students'])"
   ]
  },
  {
   "cell_type": "markdown",
   "id": "d513876b-4d1d-4679-bee4-0e12b32790b2",
   "metadata": {},
   "source": [
    "## MULTIPLE SERIES"
   ]
  },
  {
   "cell_type": "code",
   "execution_count": 11,
   "id": "70c1f79a-5e77-48d8-b7c3-aaed6c167793",
   "metadata": {},
   "outputs": [],
   "source": [
    "names = ['shubham', 'abhi', 'akash']\n",
    "marks = [20,30,40]"
   ]
  },
  {
   "cell_type": "code",
   "execution_count": 12,
   "id": "0903783b-4612-4d3b-9020-b3ccfaf23635",
   "metadata": {},
   "outputs": [
    {
     "data": {
      "text/html": [
       "<div>\n",
       "<style scoped>\n",
       "    .dataframe tbody tr th:only-of-type {\n",
       "        vertical-align: middle;\n",
       "    }\n",
       "\n",
       "    .dataframe tbody tr th {\n",
       "        vertical-align: top;\n",
       "    }\n",
       "\n",
       "    .dataframe thead th {\n",
       "        text-align: right;\n",
       "    }\n",
       "</style>\n",
       "<table border=\"1\" class=\"dataframe\">\n",
       "  <thead>\n",
       "    <tr style=\"text-align: right;\">\n",
       "      <th></th>\n",
       "      <th>0</th>\n",
       "      <th>1</th>\n",
       "      <th>2</th>\n",
       "    </tr>\n",
       "  </thead>\n",
       "  <tbody>\n",
       "    <tr>\n",
       "      <th>0</th>\n",
       "      <td>shubham</td>\n",
       "      <td>abhi</td>\n",
       "      <td>akash</td>\n",
       "    </tr>\n",
       "    <tr>\n",
       "      <th>1</th>\n",
       "      <td>20</td>\n",
       "      <td>30</td>\n",
       "      <td>40</td>\n",
       "    </tr>\n",
       "  </tbody>\n",
       "</table>\n",
       "</div>"
      ],
      "text/plain": [
       "         0     1      2\n",
       "0  shubham  abhi  akash\n",
       "1       20    30     40"
      ]
     },
     "execution_count": 12,
     "metadata": {},
     "output_type": "execute_result"
    }
   ],
   "source": [
    "pd.DataFrame([names, marks])"
   ]
  },
  {
   "cell_type": "code",
   "execution_count": 13,
   "id": "76f65b9b-b47d-40fb-af50-9d3c331bf2fa",
   "metadata": {},
   "outputs": [
    {
     "data": {
      "text/html": [
       "<div>\n",
       "<style scoped>\n",
       "    .dataframe tbody tr th:only-of-type {\n",
       "        vertical-align: middle;\n",
       "    }\n",
       "\n",
       "    .dataframe tbody tr th {\n",
       "        vertical-align: top;\n",
       "    }\n",
       "\n",
       "    .dataframe thead th {\n",
       "        text-align: right;\n",
       "    }\n",
       "</style>\n",
       "<table border=\"1\" class=\"dataframe\">\n",
       "  <thead>\n",
       "    <tr style=\"text-align: right;\">\n",
       "      <th></th>\n",
       "      <th>0</th>\n",
       "    </tr>\n",
       "  </thead>\n",
       "  <tbody>\n",
       "    <tr>\n",
       "      <th>20</th>\n",
       "      <td>shubham</td>\n",
       "    </tr>\n",
       "    <tr>\n",
       "      <th>30</th>\n",
       "      <td>abhi</td>\n",
       "    </tr>\n",
       "    <tr>\n",
       "      <th>40</th>\n",
       "      <td>akash</td>\n",
       "    </tr>\n",
       "  </tbody>\n",
       "</table>\n",
       "</div>"
      ],
      "text/plain": [
       "          0\n",
       "20  shubham\n",
       "30     abhi\n",
       "40    akash"
      ]
     },
     "execution_count": 13,
     "metadata": {},
     "output_type": "execute_result"
    }
   ],
   "source": [
    "pd.DataFrame(names, marks )"
   ]
  },
  {
   "cell_type": "code",
   "execution_count": 14,
   "id": "bfd1b1c9-3f22-444c-951a-9f8fd07f6c1f",
   "metadata": {},
   "outputs": [],
   "source": [
    "row1 = [\"shubham\", 30, 'doctor', 90.4]\n",
    "row2 = [\"abhi\", 26, 'cleaner', 45.4]\n",
    "row3 = [\"akash\", 44, 'support', 88.2]"
   ]
  },
  {
   "cell_type": "code",
   "execution_count": 15,
   "id": "a2ed2f8d-45a6-4c25-8d6b-6b2d2b2e669f",
   "metadata": {},
   "outputs": [],
   "source": [
    "a = [row1, row2, row3]"
   ]
  },
  {
   "cell_type": "code",
   "execution_count": 16,
   "id": "38e9e8c0-0013-4184-b6dd-6ad6e6e59d64",
   "metadata": {},
   "outputs": [],
   "source": [
    "b = np.array([row1, row2, row3])"
   ]
  },
  {
   "cell_type": "code",
   "execution_count": 17,
   "id": "24f7ca26-1d82-4e71-a9c0-9f4eed9f697a",
   "metadata": {},
   "outputs": [
    {
     "data": {
      "text/plain": [
       "[['shubham', 30, 'doctor', 90.4],\n",
       " ['abhi', 26, 'cleaner', 45.4],\n",
       " ['akash', 44, 'support', 88.2]]"
      ]
     },
     "execution_count": 17,
     "metadata": {},
     "output_type": "execute_result"
    }
   ],
   "source": [
    "a"
   ]
  },
  {
   "cell_type": "code",
   "execution_count": 18,
   "id": "d55d8e9c-3fec-4e7a-a7c2-e53dfe3f642e",
   "metadata": {},
   "outputs": [
    {
     "data": {
      "text/plain": [
       "array([['shubham', '30', 'doctor', '90.4'],\n",
       "       ['abhi', '26', 'cleaner', '45.4'],\n",
       "       ['akash', '44', 'support', '88.2']], dtype='<U32')"
      ]
     },
     "execution_count": 18,
     "metadata": {},
     "output_type": "execute_result"
    }
   ],
   "source": [
    "b"
   ]
  },
  {
   "cell_type": "code",
   "execution_count": 19,
   "id": "44522732-69cb-4c21-a93c-8fbf0fab5957",
   "metadata": {},
   "outputs": [
    {
     "data": {
      "text/html": [
       "<div>\n",
       "<style scoped>\n",
       "    .dataframe tbody tr th:only-of-type {\n",
       "        vertical-align: middle;\n",
       "    }\n",
       "\n",
       "    .dataframe tbody tr th {\n",
       "        vertical-align: top;\n",
       "    }\n",
       "\n",
       "    .dataframe thead th {\n",
       "        text-align: right;\n",
       "    }\n",
       "</style>\n",
       "<table border=\"1\" class=\"dataframe\">\n",
       "  <thead>\n",
       "    <tr style=\"text-align: right;\">\n",
       "      <th></th>\n",
       "      <th>0</th>\n",
       "      <th>1</th>\n",
       "      <th>2</th>\n",
       "      <th>3</th>\n",
       "    </tr>\n",
       "  </thead>\n",
       "  <tbody>\n",
       "    <tr>\n",
       "      <th>0</th>\n",
       "      <td>shubham</td>\n",
       "      <td>30</td>\n",
       "      <td>doctor</td>\n",
       "      <td>90.4</td>\n",
       "    </tr>\n",
       "    <tr>\n",
       "      <th>1</th>\n",
       "      <td>abhi</td>\n",
       "      <td>26</td>\n",
       "      <td>cleaner</td>\n",
       "      <td>45.4</td>\n",
       "    </tr>\n",
       "    <tr>\n",
       "      <th>2</th>\n",
       "      <td>akash</td>\n",
       "      <td>44</td>\n",
       "      <td>support</td>\n",
       "      <td>88.2</td>\n",
       "    </tr>\n",
       "  </tbody>\n",
       "</table>\n",
       "</div>"
      ],
      "text/plain": [
       "         0   1        2     3\n",
       "0  shubham  30   doctor  90.4\n",
       "1     abhi  26  cleaner  45.4\n",
       "2    akash  44  support  88.2"
      ]
     },
     "execution_count": 19,
     "metadata": {},
     "output_type": "execute_result"
    }
   ],
   "source": [
    "pd.DataFrame(a)"
   ]
  },
  {
   "cell_type": "code",
   "execution_count": 20,
   "id": "66aad6d1-8476-4d5d-9835-902cb7d0c35a",
   "metadata": {},
   "outputs": [
    {
     "data": {
      "text/html": [
       "<div>\n",
       "<style scoped>\n",
       "    .dataframe tbody tr th:only-of-type {\n",
       "        vertical-align: middle;\n",
       "    }\n",
       "\n",
       "    .dataframe tbody tr th {\n",
       "        vertical-align: top;\n",
       "    }\n",
       "\n",
       "    .dataframe thead th {\n",
       "        text-align: right;\n",
       "    }\n",
       "</style>\n",
       "<table border=\"1\" class=\"dataframe\">\n",
       "  <thead>\n",
       "    <tr style=\"text-align: right;\">\n",
       "      <th></th>\n",
       "      <th>0</th>\n",
       "      <th>1</th>\n",
       "      <th>2</th>\n",
       "      <th>3</th>\n",
       "    </tr>\n",
       "  </thead>\n",
       "  <tbody>\n",
       "    <tr>\n",
       "      <th>0</th>\n",
       "      <td>shubham</td>\n",
       "      <td>30</td>\n",
       "      <td>doctor</td>\n",
       "      <td>90.4</td>\n",
       "    </tr>\n",
       "    <tr>\n",
       "      <th>1</th>\n",
       "      <td>abhi</td>\n",
       "      <td>26</td>\n",
       "      <td>cleaner</td>\n",
       "      <td>45.4</td>\n",
       "    </tr>\n",
       "    <tr>\n",
       "      <th>2</th>\n",
       "      <td>akash</td>\n",
       "      <td>44</td>\n",
       "      <td>support</td>\n",
       "      <td>88.2</td>\n",
       "    </tr>\n",
       "  </tbody>\n",
       "</table>\n",
       "</div>"
      ],
      "text/plain": [
       "         0   1        2     3\n",
       "0  shubham  30   doctor  90.4\n",
       "1     abhi  26  cleaner  45.4\n",
       "2    akash  44  support  88.2"
      ]
     },
     "execution_count": 20,
     "metadata": {},
     "output_type": "execute_result"
    }
   ],
   "source": [
    "pd.DataFrame(b)"
   ]
  },
  {
   "cell_type": "code",
   "execution_count": 21,
   "id": "f1dea008-6ccb-4277-8d45-dd9052bdac7c",
   "metadata": {},
   "outputs": [],
   "source": [
    "indexes = \"A B C\".split()"
   ]
  },
  {
   "cell_type": "code",
   "execution_count": 22,
   "id": "7208b7c0-8298-4449-80b5-d75de20eff89",
   "metadata": {},
   "outputs": [],
   "source": [
    "columns = \"name age work weight\".split()"
   ]
  },
  {
   "cell_type": "code",
   "execution_count": 23,
   "id": "e4b105f2-06e1-44cd-a33f-7b337dca1fe3",
   "metadata": {},
   "outputs": [],
   "source": [
    "df = pd.DataFrame(a, index= indexes, columns= columns)"
   ]
  },
  {
   "cell_type": "code",
   "execution_count": 24,
   "id": "0e92e73d-f4f2-4586-a23f-496034faeac5",
   "metadata": {},
   "outputs": [
    {
     "data": {
      "text/html": [
       "<div>\n",
       "<style scoped>\n",
       "    .dataframe tbody tr th:only-of-type {\n",
       "        vertical-align: middle;\n",
       "    }\n",
       "\n",
       "    .dataframe tbody tr th {\n",
       "        vertical-align: top;\n",
       "    }\n",
       "\n",
       "    .dataframe thead th {\n",
       "        text-align: right;\n",
       "    }\n",
       "</style>\n",
       "<table border=\"1\" class=\"dataframe\">\n",
       "  <thead>\n",
       "    <tr style=\"text-align: right;\">\n",
       "      <th></th>\n",
       "      <th>name</th>\n",
       "      <th>age</th>\n",
       "      <th>work</th>\n",
       "      <th>weight</th>\n",
       "    </tr>\n",
       "  </thead>\n",
       "  <tbody>\n",
       "    <tr>\n",
       "      <th>A</th>\n",
       "      <td>shubham</td>\n",
       "      <td>30</td>\n",
       "      <td>doctor</td>\n",
       "      <td>90.4</td>\n",
       "    </tr>\n",
       "    <tr>\n",
       "      <th>B</th>\n",
       "      <td>abhi</td>\n",
       "      <td>26</td>\n",
       "      <td>cleaner</td>\n",
       "      <td>45.4</td>\n",
       "    </tr>\n",
       "    <tr>\n",
       "      <th>C</th>\n",
       "      <td>akash</td>\n",
       "      <td>44</td>\n",
       "      <td>support</td>\n",
       "      <td>88.2</td>\n",
       "    </tr>\n",
       "  </tbody>\n",
       "</table>\n",
       "</div>"
      ],
      "text/plain": [
       "      name  age     work  weight\n",
       "A  shubham   30   doctor    90.4\n",
       "B     abhi   26  cleaner    45.4\n",
       "C    akash   44  support    88.2"
      ]
     },
     "execution_count": 24,
     "metadata": {},
     "output_type": "execute_result"
    }
   ],
   "source": [
    "df"
   ]
  },
  {
   "cell_type": "markdown",
   "id": "9fb6fcde-d9c5-46da-b026-454301fd120a",
   "metadata": {},
   "source": [
    "## putting data through dictionary"
   ]
  },
  {
   "cell_type": "code",
   "execution_count": 25,
   "id": "50690295-8a69-4c97-b31b-c2b5580e7cd9",
   "metadata": {},
   "outputs": [],
   "source": [
    "d = {\n",
    "    1: [\"shubham\" , 20, 'netmax', 63.6, \"np\"],\n",
    "    2: [\"abhi\" , 40, 'dev', 65.8, None],\n",
    "    3: [\"akash\" , 50, 'data', 73.1, None]\n",
    "    \n",
    "}"
   ]
  },
  {
   "cell_type": "code",
   "execution_count": 26,
   "id": "af73182a-dd13-48bc-97b4-dc20e9979950",
   "metadata": {},
   "outputs": [
    {
     "data": {
      "text/plain": [
       "{1: ['shubham', 20, 'netmax', 63.6, 'np'],\n",
       " 2: ['abhi', 40, 'dev', 65.8, None],\n",
       " 3: ['akash', 50, 'data', 73.1, None]}"
      ]
     },
     "execution_count": 26,
     "metadata": {},
     "output_type": "execute_result"
    }
   ],
   "source": [
    "d"
   ]
  },
  {
   "cell_type": "code",
   "execution_count": 27,
   "id": "ce790860-02c3-4874-b60b-3775a9d926c5",
   "metadata": {},
   "outputs": [
    {
     "data": {
      "text/html": [
       "<div>\n",
       "<style scoped>\n",
       "    .dataframe tbody tr th:only-of-type {\n",
       "        vertical-align: middle;\n",
       "    }\n",
       "\n",
       "    .dataframe tbody tr th {\n",
       "        vertical-align: top;\n",
       "    }\n",
       "\n",
       "    .dataframe thead th {\n",
       "        text-align: right;\n",
       "    }\n",
       "</style>\n",
       "<table border=\"1\" class=\"dataframe\">\n",
       "  <thead>\n",
       "    <tr style=\"text-align: right;\">\n",
       "      <th></th>\n",
       "      <th>1</th>\n",
       "      <th>2</th>\n",
       "      <th>3</th>\n",
       "    </tr>\n",
       "  </thead>\n",
       "  <tbody>\n",
       "    <tr>\n",
       "      <th>0</th>\n",
       "      <td>shubham</td>\n",
       "      <td>abhi</td>\n",
       "      <td>akash</td>\n",
       "    </tr>\n",
       "    <tr>\n",
       "      <th>1</th>\n",
       "      <td>20</td>\n",
       "      <td>40</td>\n",
       "      <td>50</td>\n",
       "    </tr>\n",
       "    <tr>\n",
       "      <th>2</th>\n",
       "      <td>netmax</td>\n",
       "      <td>dev</td>\n",
       "      <td>data</td>\n",
       "    </tr>\n",
       "    <tr>\n",
       "      <th>3</th>\n",
       "      <td>63.6</td>\n",
       "      <td>65.8</td>\n",
       "      <td>73.1</td>\n",
       "    </tr>\n",
       "    <tr>\n",
       "      <th>4</th>\n",
       "      <td>np</td>\n",
       "      <td>None</td>\n",
       "      <td>None</td>\n",
       "    </tr>\n",
       "  </tbody>\n",
       "</table>\n",
       "</div>"
      ],
      "text/plain": [
       "         1     2      3\n",
       "0  shubham  abhi  akash\n",
       "1       20    40     50\n",
       "2   netmax   dev   data\n",
       "3     63.6  65.8   73.1\n",
       "4       np  None   None"
      ]
     },
     "execution_count": 27,
     "metadata": {},
     "output_type": "execute_result"
    }
   ],
   "source": [
    "pd.DataFrame(d)\n"
   ]
  },
  {
   "cell_type": "code",
   "execution_count": 28,
   "id": "d32e0d08-59f1-4ae3-96fb-b4a410316d7a",
   "metadata": {},
   "outputs": [],
   "source": [
    "d = {\n",
    "    \"name\": [\"shubham\" , \"abhi\", \"akash\"],\n",
    "    \"age\": [20, 25, 30],\n",
    "    \"weight\": [63.3, 52.0, 41.7]\n",
    "    \n",
    "}"
   ]
  },
  {
   "cell_type": "code",
   "execution_count": 29,
   "id": "5b462c98-4e95-4828-9d6b-892b32479942",
   "metadata": {},
   "outputs": [],
   "source": [
    "df = pd.DataFrame(d, index=range(100, 103))"
   ]
  },
  {
   "cell_type": "code",
   "execution_count": 30,
   "id": "3c2659e0-5928-4672-bc44-1bb5d4bbe748",
   "metadata": {},
   "outputs": [
    {
     "data": {
      "text/html": [
       "<div>\n",
       "<style scoped>\n",
       "    .dataframe tbody tr th:only-of-type {\n",
       "        vertical-align: middle;\n",
       "    }\n",
       "\n",
       "    .dataframe tbody tr th {\n",
       "        vertical-align: top;\n",
       "    }\n",
       "\n",
       "    .dataframe thead th {\n",
       "        text-align: right;\n",
       "    }\n",
       "</style>\n",
       "<table border=\"1\" class=\"dataframe\">\n",
       "  <thead>\n",
       "    <tr style=\"text-align: right;\">\n",
       "      <th></th>\n",
       "      <th>name</th>\n",
       "      <th>age</th>\n",
       "      <th>weight</th>\n",
       "    </tr>\n",
       "  </thead>\n",
       "  <tbody>\n",
       "    <tr>\n",
       "      <th>100</th>\n",
       "      <td>shubham</td>\n",
       "      <td>20</td>\n",
       "      <td>63.3</td>\n",
       "    </tr>\n",
       "    <tr>\n",
       "      <th>101</th>\n",
       "      <td>abhi</td>\n",
       "      <td>25</td>\n",
       "      <td>52.0</td>\n",
       "    </tr>\n",
       "    <tr>\n",
       "      <th>102</th>\n",
       "      <td>akash</td>\n",
       "      <td>30</td>\n",
       "      <td>41.7</td>\n",
       "    </tr>\n",
       "  </tbody>\n",
       "</table>\n",
       "</div>"
      ],
      "text/plain": [
       "        name  age  weight\n",
       "100  shubham   20    63.3\n",
       "101     abhi   25    52.0\n",
       "102    akash   30    41.7"
      ]
     },
     "execution_count": 30,
     "metadata": {},
     "output_type": "execute_result"
    }
   ],
   "source": [
    "df"
   ]
  },
  {
   "cell_type": "code",
   "execution_count": null,
   "id": "4e5bf7ba-150c-4e1e-97b4-c29a52ee963d",
   "metadata": {},
   "outputs": [],
   "source": []
  }
 ],
 "metadata": {
  "kernelspec": {
   "display_name": "Python [conda env:base] *",
   "language": "python",
   "name": "conda-base-py"
  },
  "language_info": {
   "codemirror_mode": {
    "name": "ipython",
    "version": 3
   },
   "file_extension": ".py",
   "mimetype": "text/x-python",
   "name": "python",
   "nbconvert_exporter": "python",
   "pygments_lexer": "ipython3",
   "version": "3.13.5"
  }
 },
 "nbformat": 4,
 "nbformat_minor": 5
}
