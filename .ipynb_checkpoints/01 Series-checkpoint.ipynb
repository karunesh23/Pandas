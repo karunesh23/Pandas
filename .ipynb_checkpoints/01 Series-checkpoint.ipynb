{
 "cells": [
  {
   "cell_type": "markdown",
   "id": "3a01122a-b067-402f-97e1-6e29dcb11ac4",
   "metadata": {},
   "source": [
    "## Pandas"
   ]
  },
  {
   "cell_type": "markdown",
   "id": "70a7a81d-407b-4ffc-8d03-960c35bc3a89",
   "metadata": {},
   "source": [
    "## Library to work with table data"
   ]
  },
  {
   "cell_type": "code",
   "execution_count": 1,
   "id": "ae9e8b72-ce3d-437b-a9ee-a6e5a5d366b1",
   "metadata": {},
   "outputs": [
    {
     "name": "stdout",
     "output_type": "stream",
     "text": [
      "Requirement already satisfied: pandas in c:\\users\\diksha\\anaconda3\\lib\\site-packages (2.2.3)\n",
      "Requirement already satisfied: numpy>=1.26.0 in c:\\users\\diksha\\anaconda3\\lib\\site-packages (from pandas) (2.1.3)\n",
      "Requirement already satisfied: python-dateutil>=2.8.2 in c:\\users\\diksha\\anaconda3\\lib\\site-packages (from pandas) (2.9.0.post0)\n",
      "Requirement already satisfied: pytz>=2020.1 in c:\\users\\diksha\\anaconda3\\lib\\site-packages (from pandas) (2024.1)\n",
      "Requirement already satisfied: tzdata>=2022.7 in c:\\users\\diksha\\anaconda3\\lib\\site-packages (from pandas) (2025.2)\n",
      "Requirement already satisfied: six>=1.5 in c:\\users\\diksha\\anaconda3\\lib\\site-packages (from python-dateutil>=2.8.2->pandas) (1.17.0)\n",
      "Note: you may need to restart the kernel to use updated packages.\n"
     ]
    }
   ],
   "source": [
    "pip install pandas"
   ]
  },
  {
   "cell_type": "markdown",
   "id": "213f468e-fe19-4750-9136-d90a758af940",
   "metadata": {},
   "source": [
    "## SERIES"
   ]
  },
  {
   "cell_type": "code",
   "execution_count": 2,
   "id": "ba0fde6e-fd1f-4f60-91ec-e1f705da26e2",
   "metadata": {},
   "outputs": [],
   "source": [
    "li = ['karunesh', 'kanu', 'aaaaa']"
   ]
  },
  {
   "cell_type": "code",
   "execution_count": 3,
   "id": "fe045d55-873d-40fa-8882-ed023e3deb5f",
   "metadata": {},
   "outputs": [],
   "source": [
    "import numpy as np\n",
    "import pandas as pd"
   ]
  },
  {
   "cell_type": "code",
   "execution_count": 7,
   "id": "b3da5e6d-0c55-47f7-87dd-cac383e181a2",
   "metadata": {},
   "outputs": [],
   "source": [
    "a = pd.Series(li)"
   ]
  },
  {
   "cell_type": "code",
   "execution_count": 8,
   "id": "6a48da28-842b-4a58-a05f-e92339c8187a",
   "metadata": {},
   "outputs": [
    {
     "data": {
      "text/plain": [
       "0    karunesh\n",
       "1        kanu\n",
       "2       aaaaa\n",
       "dtype: object"
      ]
     },
     "execution_count": 8,
     "metadata": {},
     "output_type": "execute_result"
    }
   ],
   "source": [
    "a"
   ]
  },
  {
   "cell_type": "code",
   "execution_count": 9,
   "id": "9f9d1854-0764-4aca-a1a4-fddf0185981e",
   "metadata": {},
   "outputs": [],
   "source": [
    "b = pd.Series(li, index=[\"A\", \"B\", \"C\"], name=\"name\")"
   ]
  },
  {
   "cell_type": "code",
   "execution_count": 10,
   "id": "f4e23d98-fe8e-4cdf-8516-fd3173bb497b",
   "metadata": {},
   "outputs": [
    {
     "data": {
      "text/plain": [
       "A    karunesh\n",
       "B        kanu\n",
       "C       aaaaa\n",
       "Name: name, dtype: object"
      ]
     },
     "execution_count": 10,
     "metadata": {},
     "output_type": "execute_result"
    }
   ],
   "source": [
    "b"
   ]
  },
  {
   "cell_type": "code",
   "execution_count": 18,
   "id": "89cf5096-0a54-4517-8419-8ee7469ab6a1",
   "metadata": {},
   "outputs": [],
   "source": [
    "c = pd.Series([\"math\", 'science', 'english'], index=[\"A\", \"B\", \"C\"], name=\"Subjects\")"
   ]
  },
  {
   "cell_type": "code",
   "execution_count": 19,
   "id": "c3e86c17-df01-46a3-ab83-bbbf4cfbf2d3",
   "metadata": {},
   "outputs": [
    {
     "data": {
      "text/plain": [
       "A       math\n",
       "B    science\n",
       "C    english\n",
       "Name: Subjects, dtype: object"
      ]
     },
     "execution_count": 19,
     "metadata": {},
     "output_type": "execute_result"
    }
   ],
   "source": [
    "c"
   ]
  },
  {
   "cell_type": "code",
   "execution_count": 16,
   "id": "eb9aafa9-2d17-4232-8ce7-07c917fe644d",
   "metadata": {},
   "outputs": [
    {
     "data": {
      "text/plain": [
       "'math'"
      ]
     },
     "execution_count": 16,
     "metadata": {},
     "output_type": "execute_result"
    }
   ],
   "source": [
    "c[\"A\"]"
   ]
  },
  {
   "cell_type": "code",
   "execution_count": 17,
   "id": "f13332a0-1232-4874-b9c2-66061b412542",
   "metadata": {},
   "outputs": [
    {
     "data": {
      "text/plain": [
       "'science'"
      ]
     },
     "execution_count": 17,
     "metadata": {},
     "output_type": "execute_result"
    }
   ],
   "source": [
    "c[\"B\"]"
   ]
  },
  {
   "cell_type": "code",
   "execution_count": 22,
   "id": "d4676231-af09-47fd-bd91-0fbd36832a0b",
   "metadata": {},
   "outputs": [],
   "source": [
    "C1 = pd.Series([\"math\", 'science', 'english'], index=[\"A B C\".split()], name=\"Subjects\")"
   ]
  },
  {
   "cell_type": "code",
   "execution_count": 23,
   "id": "76bdb0ec-bb6d-439f-a679-83c5892d506c",
   "metadata": {},
   "outputs": [
    {
     "data": {
      "text/plain": [
       "A       math\n",
       "B    science\n",
       "C    english\n",
       "Name: Subjects, dtype: object"
      ]
     },
     "execution_count": 23,
     "metadata": {},
     "output_type": "execute_result"
    }
   ],
   "source": [
    "C1"
   ]
  },
  {
   "cell_type": "markdown",
   "id": "136b1c16-8c66-4940-9efa-7e37720b787a",
   "metadata": {},
   "source": [
    "## SERIES WITH DICTIONARY"
   ]
  },
  {
   "cell_type": "code",
   "execution_count": 24,
   "id": "6e17af74-0509-48c5-98de-81a061a26220",
   "metadata": {},
   "outputs": [],
   "source": [
    "d = {\"city\": [\"delhi\", 'chd', 'agra']}"
   ]
  },
  {
   "cell_type": "code",
   "execution_count": 25,
   "id": "641b310f-fd97-4a04-9eea-dd6a7dbe5bab",
   "metadata": {},
   "outputs": [
    {
     "data": {
      "text/plain": [
       "0    delhi\n",
       "1      chd\n",
       "2     agra\n",
       "Name: city, dtype: object"
      ]
     },
     "execution_count": 25,
     "metadata": {},
     "output_type": "execute_result"
    }
   ],
   "source": [
    "pd.Series(d[\"city\"], name=\"city\")"
   ]
  },
  {
   "cell_type": "code",
   "execution_count": 26,
   "id": "8e4cc86c-95c4-432b-a9a8-02e8e647c667",
   "metadata": {},
   "outputs": [
    {
     "data": {
      "text/plain": [
       "A    karunesh\n",
       "B        kanu\n",
       "C       aaaaa\n",
       "Name: name, dtype: object"
      ]
     },
     "execution_count": 26,
     "metadata": {},
     "output_type": "execute_result"
    }
   ],
   "source": [
    "b"
   ]
  },
  {
   "cell_type": "code",
   "execution_count": 27,
   "id": "4f78429b-0de5-492c-ba1d-2a795a222a69",
   "metadata": {},
   "outputs": [],
   "source": [
    "e = pd.Series([2,5,8], index=[\"A B C\".split()], name=\"marks\")"
   ]
  },
  {
   "cell_type": "code",
   "execution_count": 28,
   "id": "a26cdc95-14c5-4821-a704-69d3d0c866ae",
   "metadata": {},
   "outputs": [
    {
     "data": {
      "text/plain": [
       "A    2\n",
       "B    5\n",
       "C    8\n",
       "Name: marks, dtype: int64"
      ]
     },
     "execution_count": 28,
     "metadata": {},
     "output_type": "execute_result"
    }
   ],
   "source": [
    "e"
   ]
  },
  {
   "cell_type": "code",
   "execution_count": 29,
   "id": "d7ba930a-d5ba-4ea1-912a-8cad5a4923b9",
   "metadata": {},
   "outputs": [],
   "source": [
    "e = pd.Series([2.5,5.3,8.2], index=[\"A B C\".split()], name=\"inputs\")"
   ]
  },
  {
   "cell_type": "code",
   "execution_count": 30,
   "id": "4fcdd6e8-a5ba-4ad3-8a21-656693b4b6e5",
   "metadata": {},
   "outputs": [
    {
     "data": {
      "text/plain": [
       "A    2.5\n",
       "B    5.3\n",
       "C    8.2\n",
       "Name: inputs, dtype: float64"
      ]
     },
     "execution_count": 30,
     "metadata": {},
     "output_type": "execute_result"
    }
   ],
   "source": [
    "e"
   ]
  },
  {
   "cell_type": "code",
   "execution_count": null,
   "id": "43213051-1841-476f-9b3c-8b6a44cb879a",
   "metadata": {},
   "outputs": [],
   "source": [
    "g = pd.Series([True, False], index)"
   ]
  }
 ],
 "metadata": {
  "kernelspec": {
   "display_name": "Python [conda env:base] *",
   "language": "python",
   "name": "conda-base-py"
  },
  "language_info": {
   "codemirror_mode": {
    "name": "ipython",
    "version": 3
   },
   "file_extension": ".py",
   "mimetype": "text/x-python",
   "name": "python",
   "nbconvert_exporter": "python",
   "pygments_lexer": "ipython3",
   "version": "3.13.5"
  }
 },
 "nbformat": 4,
 "nbformat_minor": 5
}
